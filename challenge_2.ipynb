{
  "cells": [
    {
      "cell_type": "code",
      "execution_count": null,
      "id": "sESSTFAlgtL5KWbqS4dk7vXQ",
      "metadata": {
        "colab": {
          "base_uri": "https://localhost:8080/"
        },
        "id": "sESSTFAlgtL5KWbqS4dk7vXQ",
        "outputId": "76f5dc9c-8e9c-42cb-b711-e18853bd2c89",
        "tags": []
      },
      "outputs": [
        {
          "name": "stdout",
          "output_type": "stream",
          "text": [
            "call_id                  int64\n",
            "call_timestamp          object\n",
            "call_type               object\n",
            "location                object\n",
            "weather_condition       object\n",
            "day_of_week             object\n",
            "time_of_day              int64\n",
            "traffic_level           object\n",
            "distance_to_station    float64\n",
            "units_available          int64\n",
            "response_time          float64\n",
            "dtype: object\n"
          ]
        }
      ],
      "source": [
        "import pandas as pd\n",
        "\n",
        "# Read the file\n",
        "df = pd.read_csv('gs://labs.roitraining.com/data-to-ai-workshop/emergency_calls_response_times.csv')\n",
        "\n",
        "\n",
        "# Pull the data schema and data types to determine the required table schema.\n",
        "print(df.dtypes)"
      ]
    },
    {
      "cell_type": "code",
      "execution_count": null,
      "id": "7HK3EKhljryF",
      "metadata": {
        "colab": {
          "base_uri": "https://localhost:8080/"
        },
        "id": "7HK3EKhljryF",
        "outputId": "b66eff1f-61c7-447b-f53e-13b8ab4fc966"
      },
      "outputs": [
        {
          "name": "stdout",
          "output_type": "stream",
          "text": [
            "Loaded 50000 rows and 11 columns to emergency_calls_response_times\n"
          ]
        }
      ],
      "source": [
        "from google.cloud import bigquery\n",
        "\n",
        "# Define BQ schema, use BQ client library to create the table.\n",
        "schema = [\n",
        "    bigquery.SchemaField(\"call_id\", \"INTEGER\"),\n",
        "    bigquery.SchemaField(\"call_timestamp\", \"STRING\"),\n",
        "    bigquery.SchemaField(\"call_type\", \"STRING\"),\n",
        "    bigquery.SchemaField(\"location\", \"STRING\"),\n",
        "    bigquery.SchemaField(\"weather_condition\", \"STRING\"),\n",
        "    bigquery.SchemaField(\"day_of_week\", \"STRING\"),\n",
        "    bigquery.SchemaField(\"time_of_day\", \"INTEGER\"),\n",
        "    bigquery.SchemaField(\"traffic_level\", \"STRING\"),\n",
        "    bigquery.SchemaField(\"distance_to_station\", \"FLOAT\"),\n",
        "    bigquery.SchemaField(\"units_available\", \"INTEGER\"),\n",
        "    bigquery.SchemaField(\"response_time\", \"FLOAT\"),\n",
        "]\n",
        "# Set dataset reference vars.\n",
        "project_id = \"qwiklabs-gcp-02-949c0486d822\"\n",
        "dataset_id = \"dani_data_to_ai_workshop\"\n",
        "table_id = \"emergency_calls_response_times\"\n",
        "\n",
        "client = bigquery.Client()\n",
        "dataset_ref = bigquery.DatasetReference(project_id, dataset_id)\n",
        "dataset = bigquery.Dataset(dataset_ref)\n",
        "client.create_dataset(dataset, exists_ok=True)\n",
        "\n",
        "# Create the table if it doesn't exist.\n",
        "table_ref = bigquery.TableReference(dataset_ref, table_id)\n",
        "table = bigquery.Table(table_ref, schema=schema)\n",
        "client.create_table(table, exists_ok=True)\n",
        "\n",
        "# Load the data into the table.\n",
        "job_config = bigquery.LoadJobConfig(\n",
        "    schema=schema,\n",
        "    source_format=bigquery.SourceFormat.CSV,\n",
        "    skip_leading_rows=1,  # Skip the header row\n",
        ")\n",
        "\n",
        "job = client.load_table_from_uri(\n",
        "    'gs://labs.roitraining.com/data-to-ai-workshop/emergency_calls_response_times.csv',\n",
        "    table,\n",
        "    location='US',\n",
        "    job_config=job_config\n",
        ")\n",
        "\n",
        "try:\n",
        "    job.result()  # Wait for the job to complete\n",
        "    table = client.get_table(table_ref)\n",
        "    print(f\"Loaded {table.num_rows} rows and {len(table.schema)} columns to {table_id}\")\n",
        "except Exception as e:\n",
        "    print(f\"Error loading data: {e}\")"
      ]
    },
    {
      "cell_type": "code",
      "execution_count": null,
      "id": "a7p_TEmVjzjb",
      "metadata": {
        "colab": {
          "base_uri": "https://localhost:8080/"
        },
        "id": "a7p_TEmVjzjb",
        "outputId": "b46d695a-15a8-4a38-a09c-f850212cb76f"
      },
      "outputs": [
        {
          "name": "stdout",
          "output_type": "stream",
          "text": [
            "Model created successfully!\n"
          ]
        }
      ],
      "source": [
        "# Create a BigQuery ML model to predict response times\n",
        "# use a linear regression model since we're predicting a continuous value (response_time)\n",
        "\n",
        "create_model_query = f\"\"\"\n",
        "CREATE OR REPLACE MODEL `{project_id}.{dataset_id}.response_time_prediction_model`\n",
        "OPTIONS(\n",
        "  model_type='LINEAR_REG',\n",
        "  input_label_cols=['response_time'],\n",
        "  DATA_SPLIT_METHOD='AUTO_SPLIT'\n",
        ") AS\n",
        "SELECT\n",
        "  call_type,\n",
        "  location,\n",
        "  weather_condition,\n",
        "  day_of_week,\n",
        "  time_of_day,\n",
        "  traffic_level,\n",
        "  distance_to_station,\n",
        "  units_available,\n",
        "  response_time\n",
        "FROM\n",
        "  `{project_id}.{dataset_id}.{table_id}`\n",
        "\"\"\"\n",
        "\n",
        "# Execute the query to create the model\n",
        "job = client.query(create_model_query)\n",
        "try:\n",
        "    job.result()  # Wait for the job to complete\n",
        "    print(\"Model created successfully!\")\n",
        "except Exception as e:\n",
        "    print(f\"Error creating model: {e}\")\n"
      ]
    },
    {
      "cell_type": "code",
      "execution_count": null,
      "id": "X5_Q4x-Jk1qD",
      "metadata": {
        "colab": {
          "base_uri": "https://localhost:8080/"
        },
        "id": "X5_Q4x-Jk1qD",
        "outputId": "f46058c9-8fd0-437a-b695-cb048104f5e8"
      },
      "outputs": [
        {
          "name": "stdout",
          "output_type": "stream",
          "text": [
            "Model evaluation results:\n",
            "Mean Absolute Error: 1.7619337069068535\n",
            "Mean Squared Error: 4.827846250493765\n",
            "R^2 Score: 0.8314167591183915\n"
          ]
        }
      ],
      "source": [
        "# Evaluate the model performance\n",
        "evaluate_query = f\"\"\"\n",
        "SELECT\n",
        "  *\n",
        "FROM\n",
        "  ML.EVALUATE(MODEL `{project_id}.{dataset_id}.response_time_prediction_model`)\n",
        "\"\"\"\n",
        "\n",
        "# Run the evaluation query\n",
        "eval_job = client.query(evaluate_query)\n",
        "try:\n",
        "    eval_results = eval_job.result()\n",
        "    print(\"Model evaluation results:\")\n",
        "    for row in eval_results:\n",
        "        print(f\"Mean Absolute Error: {row.mean_absolute_error}\")\n",
        "        print(f\"Mean Squared Error: {row.mean_squared_error}\")\n",
        "        print(f\"R^2 Score: {row.r2_score}\")\n",
        "except Exception as e:\n",
        "    print(f\"Error evaluating model: {e}\")\n"
      ]
    },
    {
      "cell_type": "code",
      "execution_count": null,
      "id": "nJj54GqclB_U",
      "metadata": {
        "colab": {
          "base_uri": "https://localhost:8080/"
        },
        "id": "nJj54GqclB_U",
        "outputId": "f29e574f-7acf-48ae-8870-8bad41cc9cc5"
      },
      "outputs": [
        {
          "name": "stdout",
          "output_type": "stream",
          "text": [
            "Sample of synthetic data:\n",
            "  call_type    location weather_condition day_of_week  time_of_day  \\\n",
            "0    Police  Brookfield             Sunny      Friday           10   \n",
            "1    Rescue  Brookfield             Windy      Friday           16   \n",
            "2    Rescue   Maplewood             Sunny      Sunday           21   \n",
            "3    Police   Maplewood             Sunny      Sunday           12   \n",
            "4    Police   Maplewood             Sunny      Sunday           19   \n",
            "\n",
            "  traffic_level  distance_to_station  units_available  response_time  \n",
            "0        Medium                15.45                6          44.73  \n",
            "1        Medium                22.37               15          25.24  \n",
            "2          High                12.80                8          47.69  \n",
            "3          High                20.94                6          83.07  \n",
            "4           Low                20.25                1          70.21  \n",
            "Loaded 100 synthetic records to emergency_calls_response_times_synthetic\n"
          ]
        }
      ],
      "source": [
        "# Make predictions with the model against synthetic data\n",
        "\n",
        "\n",
        "# Create a synthetic data table\n",
        "table_id = \"emergency_calls_response_times_synthetic\"\n",
        "schema = [\n",
        "    bigquery.SchemaField(\"call_type\", \"STRING\"),\n",
        "    bigquery.SchemaField(\"location\", \"STRING\"),\n",
        "    bigquery.SchemaField(\"weather_condition\", \"STRING\"),\n",
        "    bigquery.SchemaField(\"day_of_week\", \"STRING\"),\n",
        "    bigquery.SchemaField(\"time_of_day\", \"INTEGER\"),\n",
        "    bigquery.SchemaField(\"traffic_level\", \"STRING\"),\n",
        "    bigquery.SchemaField(\"distance_to_station\", \"FLOAT\"),\n",
        "    bigquery.SchemaField(\"units_available\", \"INTEGER\"),\n",
        "    bigquery.SchemaField(\"response_time\", \"FLOAT\"),\n",
        "]\n",
        "table_ref = bigquery.TableReference(dataset_ref, table_id)\n",
        "table = bigquery.Table(table_ref, schema=schema)\n",
        "client.create_table(table, exists_ok=True)\n",
        "\n",
        "# Read the original CSV to understand data distributions\n",
        "import numpy as np\n",
        "import random\n",
        "from datetime import datetime, timedelta\n",
        "\n",
        "# Read a sample of the original data to understand distributions\n",
        "df_sample = pd.read_csv('gs://labs.roitraining.com/data-to-ai-workshop/emergency_calls_response_times.csv', nrows=5000)\n",
        "\n",
        "# Extract unique values and distributions from the sample\n",
        "call_types = df_sample['call_type'].unique().tolist()\n",
        "locations = df_sample['location'].unique().tolist()\n",
        "weather_conditions = df_sample['weather_condition'].unique().tolist()\n",
        "days_of_week = ['Monday', 'Tuesday', 'Wednesday', 'Thursday', 'Friday', 'Saturday', 'Sunday']\n",
        "traffic_levels = df_sample['traffic_level'].unique().tolist()\n",
        "\n",
        "# Get statistical distributions for numerical fields\n",
        "min_time_of_day = int(df_sample['time_of_day'].min())\n",
        "max_time_of_day = int(df_sample['time_of_day'].max())\n",
        "min_distance = float(df_sample['distance_to_station'].min())\n",
        "max_distance = float(df_sample['distance_to_station'].max())\n",
        "min_units = int(df_sample['units_available'].min())\n",
        "max_units = int(df_sample['units_available'].max())\n",
        "\n",
        "# Create response time model based on features (simplified)\n",
        "mean_response_time = df_sample['response_time'].mean()\n",
        "std_response_time = df_sample['response_time'].std()\n",
        "\n",
        "# Generate 100 synthetic records\n",
        "num_records = 100\n",
        "synthetic_data = []\n",
        "\n",
        "for i in range(num_records):\n",
        "    # Generate random values based on distributions in original data\n",
        "    call_type = random.choice(call_types)\n",
        "    location = random.choice(locations)\n",
        "    weather = random.choice(weather_conditions)\n",
        "    day = random.choice(days_of_week)\n",
        "    time_of_day = random.randint(min_time_of_day, max_time_of_day)\n",
        "    traffic = random.choice(traffic_levels)\n",
        "    distance = round(random.uniform(min_distance, max_distance), 2)\n",
        "    units = random.randint(min_units, max_units)\n",
        "\n",
        "    # Generate response time with some correlation to features\n",
        "    # More units available and shorter distance should mean faster response time\n",
        "    base_response_time = np.random.normal(mean_response_time, std_response_time)\n",
        "\n",
        "    # Adjust based on distance (farther = longer response time)\n",
        "    distance_factor = distance / max_distance\n",
        "\n",
        "    # Adjust based on units (more units = shorter response time)\n",
        "    units_factor = 1 - (units / max_units)\n",
        "\n",
        "    # Adjust based on traffic (high traffic = longer response time)\n",
        "    traffic_factor = 1.2 if traffic == 'High' else 1.0 if traffic == 'Medium' else 0.8\n",
        "\n",
        "    # Calculate final response time\n",
        "    response_time = round(base_response_time * (1 + distance_factor) * (1 + units_factor) * traffic_factor, 2)\n",
        "    response_time = max(1.0, response_time)  # Ensure minimum response time is 1 minute\n",
        "\n",
        "    synthetic_data.append({\n",
        "        'call_type': call_type,\n",
        "        'location': location,\n",
        "        'weather_condition': weather,\n",
        "        'day_of_week': day,\n",
        "        'time_of_day': time_of_day,\n",
        "        'traffic_level': traffic,\n",
        "        'distance_to_station': distance,\n",
        "        'units_available': units,\n",
        "        'response_time': response_time\n",
        "    })\n",
        "\n",
        "# Create DataFrame from synthetic data\n",
        "df_synthetic = pd.DataFrame(synthetic_data)\n",
        "\n",
        "# Display sample of synthetic data\n",
        "print(\"Sample of synthetic data:\")\n",
        "print(df_synthetic.head())\n",
        "\n",
        "# Upload synthetic data to BigQuery\n",
        "job = client.load_table_from_dataframe(\n",
        "    df_synthetic,\n",
        "    table,\n",
        "    location='US'\n",
        ")\n",
        "\n",
        "try:\n",
        "    job.result()\n",
        "    print(f\"Loaded {len(df_synthetic)} synthetic records to {table_id}\")\n",
        "except Exception as e:\n",
        "    print(f\"Error loading synthetic data: {e}\")\n"
      ]
    },
    {
      "cell_type": "code",
      "execution_count": null,
      "id": "km28VgsflShl",
      "metadata": {
        "colab": {
          "base_uri": "https://localhost:8080/",
          "height": 1000
        },
        "id": "km28VgsflShl",
        "outputId": "2e30e6e4-4fbf-4f36-fb7c-9266e3623ee1"
      },
      "outputs": [
        {
          "name": "stdout",
          "output_type": "stream",
          "text": [
            "Prediction results on synthetic data:\n",
            "Average absolute error: 21.11 minutes\n",
            "\n",
            "Sample predictions:\n",
            "  call_type    location  distance_to_station  units_available  \\\n",
            "0      Fire     Oakmont                13.11                1   \n",
            "1      Fire   Riverside                 0.86                3   \n",
            "2      Fire     Oakmont                26.83                6   \n",
            "3      Fire   Riverside                19.45                4   \n",
            "4      Fire     Oakmont                27.13               12   \n",
            "5      Fire    Downtown                15.14                7   \n",
            "6      Fire  Greenfield                 5.64                3   \n",
            "7      Fire    Highland                 1.38                7   \n",
            "8      Fire    Downtown                27.00               15   \n",
            "9      Fire    Downtown                24.38                4   \n",
            "\n",
            "   actual_response_time  predicted_response_time      error  \n",
            "0                 76.65                18.426157  58.223843  \n",
            "1                 47.95                13.111306  34.838694  \n",
            "2                 69.55                22.877683  46.672317  \n",
            "3                 38.79                23.885788  14.904212  \n",
            "4                 42.53                20.765344  21.764656  \n",
            "5                 45.87                22.090045  23.779955  \n",
            "6                 28.69                11.350604  17.339396  \n",
            "7                 26.23                12.381888  13.848112  \n",
            "8                 14.95                26.312525 -11.362525  \n",
            "9                 44.61                23.685036  20.924964  \n"
          ]
        },
        {
          "data": {
            "image/png": "[encoded data removed]",
            "text/plain": [
              "<Figure size 1000x600 with 1 Axes>"
            ]
          },
          "metadata": {},
          "output_type": "display_data"
        }
      ],
      "source": [
        "# Make predictions with the model against our synthetic data\n",
        "predict_synthetic_query = f\"\"\"\n",
        "SELECT\n",
        "  *\n",
        "FROM\n",
        "  ML.PREDICT(MODEL `{project_id}.{dataset_id}.response_time_prediction_model`,\n",
        "    (\n",
        "    SELECT\n",
        "      call_type,\n",
        "      location,\n",
        "      weather_condition,\n",
        "      day_of_week,\n",
        "      time_of_day,\n",
        "      traffic_level,\n",
        "      distance_to_station,\n",
        "      units_available,\n",
        "      response_time as actual_response_time\n",
        "    FROM\n",
        "      `{project_id}.{dataset_id}.{table_id}`\n",
        "    )\n",
        "  )\n",
        "\"\"\"\n",
        "\n",
        "# Run the prediction query\n",
        "predict_job = client.query(predict_synthetic_query)\n",
        "try:\n",
        "    predict_results = predict_job.result()\n",
        "\n",
        "    # Create a DataFrame from the results\n",
        "    predictions_df = []\n",
        "    for row in predict_results:\n",
        "        predictions_df.append({\n",
        "            'call_type': row.call_type,\n",
        "            'location': row.location,\n",
        "            'weather_condition': row.weather_condition,\n",
        "            'day_of_week': row.day_of_week,\n",
        "            'time_of_day': row.time_of_day,\n",
        "            'traffic_level': row.traffic_level,\n",
        "            'distance_to_station': row.distance_to_station,\n",
        "            'units_available': row.units_available,\n",
        "            'actual_response_time': row.actual_response_time,\n",
        "            'predicted_response_time': row.predicted_response_time\n",
        "        })\n",
        "\n",
        "    predictions_df = pd.DataFrame(predictions_df)\n",
        "\n",
        "    # Calculate prediction errors\n",
        "    predictions_df['error'] = predictions_df['actual_response_time'] - predictions_df['predicted_response_time']\n",
        "    predictions_df['abs_error'] = abs(predictions_df['error'])\n",
        "\n",
        "    # Display results\n",
        "    print(\"Prediction results on synthetic data:\")\n",
        "    print(f\"Average absolute error: {predictions_df['abs_error'].mean():.2f} minutes\")\n",
        "    print(\"\\nSample predictions:\")\n",
        "    print(predictions_df[['call_type', 'location', 'distance_to_station', 'units_available',\n",
        "                         'actual_response_time', 'predicted_response_time', 'error']].head(10))\n",
        "\n",
        "    # Create visualization of actual vs predicted\n",
        "    try:\n",
        "        import matplotlib.pyplot as plt\n",
        "\n",
        "        plt.figure(figsize=(10, 6))\n",
        "        plt.scatter(predictions_df['actual_response_time'], predictions_df['predicted_response_time'], alpha=0.5)\n",
        "        plt.plot([0, 40], [0, 40], 'r--')  # Perfect prediction line\n",
        "        plt.xlabel('Actual Response Time (minutes)')\n",
        "        plt.ylabel('Predicted Response Time (minutes)')\n",
        "        plt.title('Actual vs Predicted Response Times')\n",
        "        plt.grid(True, alpha=0.3)\n",
        "        plt.show()\n",
        "    except Exception as viz_error:\n",
        "        print(f\"Could not create visualization: {viz_error}\")\n",
        "\n",
        "except Exception as e:\n",
        "    print(f\"Error making predictions: {e}\")\n"
      ]
    },
    {
      "cell_type": "code",
      "execution_count": null,
      "id": "A5rGTdODpDO4",
      "metadata": {
        "id": "A5rGTdODpDO4"
      },
      "outputs": [],
      "source": []
    }
  ],
  "metadata": {
    "colab": {
      "name": "challenge_2",
      "provenance": []
    },
    "kernelspec": {
      "display_name": "Python 3",
      "language": "python",
      "name": "python3"
    },
    "language_info": {
      "codemirror_mode": {
        "name": "ipython",
        "version": 3
      },
      "file_extension": ".py",
      "mimetype": "text/x-python",
      "name": "python",
      "nbconvert_exporter": "python",
      "pygments_lexer": "ipython3",
      "version": "3.10.10"
    }
  },
  "nbformat": 4,
  "nbformat_minor": 5
}
